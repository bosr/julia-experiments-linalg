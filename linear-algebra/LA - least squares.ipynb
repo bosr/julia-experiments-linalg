{
 "cells": [
  {
   "cell_type": "markdown",
   "metadata": {},
   "source": [
    "## Least squares approximate solution in Julia\n",
    "\n",
    "The Math:\n",
    "\n",
    "- $\\hat x$ minimizes $\\lVert Ax-b \\rVert ^2$, where $A$ has independent columns\n",
    "- $\\hat x = (A^T A)^{-1} A^T b = A^\\dagger b = R^{-1}Q^T b$ \n",
    "\n",
    "In Julia:"
   ]
  },
  {
   "cell_type": "code",
   "execution_count": 1,
   "metadata": {
    "collapsed": false
   },
   "outputs": [
    {
     "data": {
      "text/plain": [
       "3-element Array{Float64,1}:\n",
       "  0.547062\n",
       " -1.06301 \n",
       "  2.0767  "
      ]
     },
     "execution_count": 1,
     "metadata": {},
     "output_type": "execute_result"
    }
   ],
   "source": [
    "A = rand(5, 3)\n",
    "b = rand(5)\n",
    "xhat = inv(A'*A) * A'*b"
   ]
  },
  {
   "cell_type": "code",
   "execution_count": 2,
   "metadata": {
    "collapsed": false
   },
   "outputs": [
    {
     "data": {
      "text/plain": [
       "3-element Array{Float64,1}:\n",
       "  0.547062\n",
       " -1.06301 \n",
       "  2.0767  "
      ]
     },
     "execution_count": 2,
     "metadata": {},
     "output_type": "execute_result"
    }
   ],
   "source": [
    "xhat = pinv(A) * b"
   ]
  },
  {
   "cell_type": "code",
   "execution_count": 3,
   "metadata": {
    "collapsed": false
   },
   "outputs": [
    {
     "data": {
      "text/plain": [
       "3-element Array{Float64,1}:\n",
       "  0.547062\n",
       " -1.06301 \n",
       "  2.0767  "
      ]
     },
     "execution_count": 3,
     "metadata": {},
     "output_type": "execute_result"
    }
   ],
   "source": [
    "Q, R = qr(A); xhat = inv(R) * Q'*b"
   ]
  },
  {
   "cell_type": "code",
   "execution_count": 4,
   "metadata": {
    "collapsed": false
   },
   "outputs": [
    {
     "data": {
      "text/plain": [
       "3-element Array{Float64,1}:\n",
       "  0.547062\n",
       " -1.06301 \n",
       "  2.0767  "
      ]
     },
     "execution_count": 4,
     "metadata": {},
     "output_type": "execute_result"
    }
   ],
   "source": [
    "xhat = A\\b"
   ]
  },
  {
   "cell_type": "markdown",
   "metadata": {},
   "source": [
    "## Linear regression\n",
    "\n",
    "- $N$ columns of $X$ are feature $n$-vectors\n",
    "- $N$-vector $y$ gives associated outcomes\n",
    "- regression model: find $n$-vector $\\beta$, scalar $v$ that minimize\n",
    "\n",
    "$$\n",
    "\\left\\lVert X^T \\beta + v - y \\right\\rVert ^2\n",
    "$$\n",
    "  \n",
    "- express objective as\n",
    "\n",
    "$$\n",
    "\\left\\lVert \\left[1 X^T \\right] \\left[ \\begin{array}{c}\n",
    "v \\\\\n",
    "\\beta\n",
    "\\end{array} \\right]\n",
    "- y\n",
    "\\right\\rVert ^2\n",
    "$$\n",
    "\n",
    "- in Julia:\n",
    "\n",
    "        beta_tilde = [ ones(N,1) X’ ] \\ y;\n",
    "        v = beta_tilde[1];  beta = beta_tilde[2:end];"
   ]
  },
  {
   "cell_type": "markdown",
   "metadata": {},
   "source": [
    "## Multi-objective least squares\n",
    "\n",
    "the math for two objectives:\n",
    "\n",
    "- $\\hat x$ minimizes $\\lambda_1 \\lVert A_1 x - b_1 \\rVert^2 + \\lambda_2 \\lVert A_2 x - b_2 \\rVert ^2$\n",
    "- $\\lambda_1, \\lambda_2 > 0$ are relative weights, tradeoff objectives\n",
    "- solve by stacking:\n",
    "\n",
    "$$\n",
    "\\hat x = \\left[ \\begin{array}{c}\n",
    "\\sqrt{\\lambda_1} A_1 \\\\\n",
    "\\sqrt{\\lambda_2} A_2\n",
    "\\end{array}\\right] ^\\dagger\n",
    "\\left[ \\begin{array}{c}\n",
    "\\sqrt{\\lambda_1} b_1 \\\\\n",
    "\\sqrt{\\lambda_2} b_2\n",
    "\\end{array}\\right]\n",
    "$$\n",
    "\n",
    "or\n",
    "\n",
    "$$\n",
    "\\hat x = \\left( \\lambda_1 A_1^T A_1 + \\lambda_2 A_2^T A_2 \\right)^{-1} + \\left( \\lambda_1 A_1^T b_1 + \\lambda_2 A_2^T b_2 \\right)\n",
    "$$\n",
    "\n",
    "in Julia:\n",
    "\n",
    "    sl1 = sqrt(lambda1); sl2 = sqrt(lambda2);\n",
    "    x_hat = [sl1 * A1; sl2*A2] \\ [sl1*b1; sl2*b2]"
   ]
  },
  {
   "cell_type": "markdown",
   "metadata": {},
   "source": [
    "## Equality constrained least squares\n",
    "\n",
    "the math\n",
    "\n",
    "- $\\hat x$ minimizes $\\left\\lVert Ax-b \\right\\rVert^2$ subject to $Cx = d$\n",
    "- $A$ is $m \\times n$, $C$ is $p \\times n$\n",
    "- find $\\hat x$ by solving $(n+p) \\times (n+p)$ KKT system\n",
    "\n",
    "\n",
    "$$\n",
    "\\left[ \\begin{array}{cc}\n",
    "2A^T A & C^T \\\\\n",
    "C      & 0 \\\\\n",
    "\\end{array} \\right]\n",
    " \\left[ \\begin{array}{c}\n",
    "\\hat x \\\\\n",
    "z\n",
    "\\end{array} \\right] = \\left[ \\begin{array}{c}\n",
    "2A^T b \\\\\n",
    "d \\end{array} \\right]\n",
    "$$\n",
    "\n",
    "In Julia:\n",
    "\n",
    "    kkt_sol = [2*A'*A C'; C zeros(p,p)] \\ [2*A'*b; d]\n",
    "    x_hat = kkt_sol[1:n]"
   ]
  },
  {
   "cell_type": "markdown",
   "metadata": {},
   "source": [
    "## Least norm problem\n",
    "\n",
    "The math:\n",
    "\n",
    "- $\\hat x$ minimizes $\\lVert x \\rVert^2$ subject to $Cx=d$\n",
    "- can solve by KKT system, or $\\hat x = C^T(C C^T)^{-1} d = C^\\dagger d$\n",
    "\n",
    "In Julia:\n",
    "\n",
    "    x_hat = C \\ d"
   ]
  },
  {
   "cell_type": "code",
   "execution_count": null,
   "metadata": {
    "collapsed": true
   },
   "outputs": [],
   "source": []
  }
 ],
 "metadata": {
  "kernelspec": {
   "display_name": "Julia 0.5.0",
   "language": "julia",
   "name": "julia-0.5"
  },
  "language_info": {
   "file_extension": ".jl",
   "mimetype": "application/julia",
   "name": "julia",
   "version": "0.5.0"
  }
 },
 "nbformat": 4,
 "nbformat_minor": 2
}
