{
 "cells": [
  {
   "cell_type": "markdown",
   "metadata": {},
   "source": [
    "# Matrix inverses in Julia"
   ]
  },
  {
   "cell_type": "markdown",
   "metadata": {},
   "source": [
    "## QR factorization\n",
    "\n",
    "- the `qr` command finds the QR factorization of a matrix"
   ]
  },
  {
   "cell_type": "code",
   "execution_count": 1,
   "metadata": {
    "collapsed": false
   },
   "outputs": [],
   "source": [
    "A = rand(5, 3)\n",
    "Q, R = qr(A);"
   ]
  },
  {
   "cell_type": "code",
   "execution_count": 2,
   "metadata": {
    "collapsed": false
   },
   "outputs": [
    {
     "data": {
      "text/plain": [
       "5×3 Array{Float64,2}:\n",
       " -0.61213   -0.194461    0.594399 \n",
       " -0.23158   -0.21042    -0.686179 \n",
       " -0.378558  -0.540393   -0.321692 \n",
       " -0.451696   0.79047    -0.259278 \n",
       " -0.473637   0.0322663   0.0716775"
      ]
     },
     "execution_count": 2,
     "metadata": {},
     "output_type": "execute_result"
    }
   ],
   "source": [
    "Q"
   ]
  },
  {
   "cell_type": "code",
   "execution_count": 3,
   "metadata": {
    "collapsed": false
   },
   "outputs": [
    {
     "data": {
      "text/plain": [
       "3×3 Array{Float64,2}:\n",
       " -1.62915  -1.20081   -1.18793   \n",
       "  0.0       0.513539   0.00376739\n",
       "  0.0       0.0       -0.956655  "
      ]
     },
     "execution_count": 3,
     "metadata": {},
     "output_type": "execute_result"
    }
   ],
   "source": [
    "R"
   ]
  },
  {
   "cell_type": "markdown",
   "metadata": {},
   "source": [
    "- when columns of $n \\times k$ matrix $A$ are independent, `qr` is same as ours\n",
    "- when columns are dependent, `qr` is *not* same as ours\n",
    "  - $A = QR, Q^T Q = I$ and $R_{ij} = 0$ for $i > j$ always hold\n",
    "  - $R$ can have zero or negative diagonal entries\n",
    "  - $R$ is not square when $A$ is wide"
   ]
  },
  {
   "cell_type": "markdown",
   "metadata": {},
   "source": [
    "## checking linear independence with QR\n",
    "\n",
    "Let's check if columns of $A$ are linearly independent\n",
    "\n",
    "- $A$ must be tall or square\n",
    "- columns are linearly independent if and only if $R$ has no 0 diagonal entries\n",
    "\n",
    "Check if columns of (tall or square) $A$ are linearly independent"
   ]
  },
  {
   "cell_type": "code",
   "execution_count": 4,
   "metadata": {
    "collapsed": false
   },
   "outputs": [
    {
     "data": {
      "text/plain": [
       "5-element Array{Float64,1}:\n",
       " 0.376955 \n",
       " 0.0556314\n",
       " 0.450979 \n",
       " 0.155615 \n",
       " 0.206433 "
      ]
     },
     "execution_count": 4,
     "metadata": {},
     "output_type": "execute_result"
    }
   ],
   "source": [
    "a1 = rand(5)"
   ]
  },
  {
   "cell_type": "code",
   "execution_count": 5,
   "metadata": {
    "collapsed": false
   },
   "outputs": [
    {
     "data": {
      "text/plain": [
       "5-element Array{Float64,1}:\n",
       " 0.159075\n",
       " 0.931782\n",
       " 0.569187\n",
       " 0.565357\n",
       " 0.924822"
      ]
     },
     "execution_count": 5,
     "metadata": {},
     "output_type": "execute_result"
    }
   ],
   "source": [
    "a2 = rand(5)"
   ]
  },
  {
   "cell_type": "code",
   "execution_count": 6,
   "metadata": {
    "collapsed": false
   },
   "outputs": [
    {
     "data": {
      "text/plain": [
       "5×3 Array{Float64,2}:\n",
       " 0.376955   0.159075  0.53603 \n",
       " 0.0556314  0.931782  0.987413\n",
       " 0.450979   0.569187  1.02017 \n",
       " 0.155615   0.565357  0.720972\n",
       " 0.206433   0.924822  1.13126 "
      ]
     },
     "execution_count": 6,
     "metadata": {},
     "output_type": "execute_result"
    }
   ],
   "source": [
    "A = [a1 a2 a1+a2]"
   ]
  },
  {
   "cell_type": "code",
   "execution_count": 7,
   "metadata": {
    "collapsed": false
   },
   "outputs": [],
   "source": [
    "Q, R = qr(A);"
   ]
  },
  {
   "cell_type": "code",
   "execution_count": 8,
   "metadata": {
    "collapsed": false
   },
   "outputs": [
    {
     "data": {
      "text/plain": [
       "5×3 Array{Float64,2}:\n",
       " -0.584864    0.364207   0.221857 \n",
       " -0.0863148  -0.71847    0.662085 \n",
       " -0.699716    0.113619   0.0852882\n",
       " -0.241444   -0.27447   -0.085246 \n",
       " -0.320291   -0.512748  -0.705607 "
      ]
     },
     "execution_count": 8,
     "metadata": {},
     "output_type": "execute_result"
    }
   ],
   "source": [
    "Q"
   ]
  },
  {
   "cell_type": "code",
   "execution_count": 9,
   "metadata": {
    "collapsed": false
   },
   "outputs": [
    {
     "data": {
      "text/plain": [
       "3×3 Array{Float64,2}:\n",
       " -0.644518  -1.00445  -1.64897    \n",
       "  0.0       -1.17623  -1.17623    \n",
       "  0.0        0.0      -2.28983e-16"
      ]
     },
     "execution_count": 9,
     "metadata": {},
     "output_type": "execute_result"
    }
   ],
   "source": [
    "R"
   ]
  },
  {
   "cell_type": "markdown",
   "metadata": {},
   "source": [
    "find the entry of diagonal of $R$ closest to zero ($R$ can have negative entries)"
   ]
  },
  {
   "cell_type": "code",
   "execution_count": 10,
   "metadata": {
    "collapsed": false
   },
   "outputs": [
    {
     "data": {
      "text/plain": [
       "2.289834988289386e-16"
      ]
     },
     "execution_count": 10,
     "metadata": {},
     "output_type": "execute_result"
    }
   ],
   "source": [
    "minimum(abs(diag(R)))"
   ]
  },
  {
   "cell_type": "code",
   "execution_count": 11,
   "metadata": {
    "collapsed": false
   },
   "outputs": [
    {
     "data": {
      "text/plain": [
       "3"
      ]
     },
     "execution_count": 11,
     "metadata": {},
     "output_type": "execute_result"
    }
   ],
   "source": [
    "indmin(abs(diag(R)))"
   ]
  },
  {
   "cell_type": "markdown",
   "metadata": {},
   "source": [
    "## Inverse"
   ]
  },
  {
   "cell_type": "code",
   "execution_count": 12,
   "metadata": {
    "collapsed": false
   },
   "outputs": [
    {
     "ename": "LoadError",
     "evalue": "DimensionMismatch(\"matrix is not square\")",
     "output_type": "error",
     "traceback": [
      "DimensionMismatch(\"matrix is not square\")",
      "",
      " in checksquare(::Array{Float64,2}) at ./linalg/linalg.jl:196",
      " in getri!(::Array{Float64,2}, ::Array{Int64,1}) at ./linalg/lapack.jl:944",
      " in inv! at ./linalg/lu.jl:232 [inlined]",
      " in inv(::Base.LinAlg.LU{Float64,Array{Float64,2}}) at ./linalg/lu.jl:233",
      " in inv(::Array{Float64,2}) at ./linalg/dense.jl:364"
     ]
    }
   ],
   "source": [
    "inv(A)"
   ]
  },
  {
   "cell_type": "code",
   "execution_count": 13,
   "metadata": {
    "collapsed": false
   },
   "outputs": [
    {
     "data": {
      "text/plain": [
       "3×3 Array{Float64,2}:\n",
       " -1.55155   1.32496    4.36713e15\n",
       "  0.0      -0.850177   4.36713e15\n",
       "  0.0       0.0       -4.36713e15"
      ]
     },
     "execution_count": 13,
     "metadata": {},
     "output_type": "execute_result"
    }
   ],
   "source": [
    "inv(R)"
   ]
  },
  {
   "cell_type": "markdown",
   "metadata": {},
   "source": [
    "You can solve square set of linear equations $Ax = b$, with invertible $A$, using"
   ]
  },
  {
   "cell_type": "code",
   "execution_count": 14,
   "metadata": {
    "collapsed": false
   },
   "outputs": [
    {
     "data": {
      "text/plain": [
       "5×1 Array{Float64,2}:\n",
       "  0.998329\n",
       " -6.43711 \n",
       "  7.46487 \n",
       " -2.85659 \n",
       "  3.9032  "
      ]
     },
     "execution_count": 14,
     "metadata": {},
     "output_type": "execute_result"
    }
   ],
   "source": [
    "b = rand(5,1)\n",
    "A = rand(5,5)\n",
    "x = inv(A) * b"
   ]
  },
  {
   "cell_type": "code",
   "execution_count": 15,
   "metadata": {
    "collapsed": false
   },
   "outputs": [
    {
     "data": {
      "text/plain": [
       "1.5700924586837751e-15"
      ]
     },
     "execution_count": 15,
     "metadata": {},
     "output_type": "execute_result"
    }
   ],
   "source": [
    "norm(A*x - b) # check residual"
   ]
  },
  {
   "cell_type": "markdown",
   "metadata": {},
   "source": [
    "but there is a better way using backslash"
   ]
  },
  {
   "cell_type": "markdown",
   "metadata": {},
   "source": [
    "## Pseudo-inverse\n",
    "\n",
    "- for a $m \\times n$ matrix $A$, `pinv(A)` returns the $n \\times m$ pseudo-inverse\n",
    "- if $A$ is square and invertible\n",
    "  - `pinv(A)` returns the inverse $A^{-1}$\n",
    "- if $A$ is tall with linearly independent columns\n",
    "  - `pinv(A)` returns the left inverse $(A^T A)^{-1} A^T$\n",
    "- if $A$ is wide with linearly independent rows\n",
    "  - `pinv(A)` returns the right inverse $A^T (A A^T)^{-1}$\n",
    "- in other cases, `pinv(A)` returns an $m \\times n$ matrix, but\n",
    "  - it is not a left or right inverse of $A$\n",
    "  - what it is is beyond the scope of this class (ee103)"
   ]
  },
  {
   "cell_type": "markdown",
   "metadata": {},
   "source": [
    "## The backslash operator\n",
    "\n",
    "- given $A$ and $b$, the `\\` operator solves the linear system $Ax=b$ for $x$\n",
    "- for a $m \\times n$ matrix $A$ and a $m$-vector $b$, `A \\ b` returns a $n$-vector $x$\n",
    "- if $A$ is square and invertible\n",
    "  - $x=A^{-1} b$\n",
    "  - the unique solution of $Ax=b$\n",
    "- if $A$ is tall with linearly independent columns\n",
    "  - $x = (A^T A)^{-1} A^T b$\n",
    "  - the least squares approximate solution of $Ax=b$\n",
    "- if $A$ is wide with linearrly independent rows\n",
    "  - $x=A^T (A A^T)^{-1} b$\n",
    "  - $x$ is the least norm solution of $Ax=b$\n",
    "- in other cases, `A\\b` will print an error message\n",
    "- uses a factor and solve method similar to QR"
   ]
  },
  {
   "cell_type": "markdown",
   "metadata": {},
   "source": [
    "## Solving matrix systems with backslash\n",
    "\n",
    "- solve matrix equatin $AX=B$ for $X$, with $A$ square\n",
    "- with $X = [x_1 \\dots x_k]$, $B=[b_1 \\dots b_k]$, same as solving k linear systems\n",
    "\n",
    "$$\n",
    "Ax_1=b_1, \\dots, Ax_k=b_k\n",
    "$$\n",
    "\n",
    "- `X = A\\B` solves the system, doing the right thing:\n",
    "  - factor $A$ once (order $n^3$)\n",
    "  - back substitution to get $x_i = A^{-1} b_i, i=1,\\dots,k$ (order $kn^2$)"
   ]
  },
  {
   "cell_type": "code",
   "execution_count": null,
   "metadata": {
    "collapsed": true
   },
   "outputs": [],
   "source": []
  }
 ],
 "metadata": {
  "kernelspec": {
   "display_name": "Julia 0.5.0",
   "language": "julia",
   "name": "julia-0.5"
  },
  "language_info": {
   "file_extension": ".jl",
   "mimetype": "application/julia",
   "name": "julia",
   "version": "0.5.0"
  }
 },
 "nbformat": 4,
 "nbformat_minor": 2
}
